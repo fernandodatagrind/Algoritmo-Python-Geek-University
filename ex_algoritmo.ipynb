{
  "nbformat": 4,
  "nbformat_minor": 0,
  "metadata": {
    "colab": {
      "name": "ex_algoritmo.ipynb",
      "provenance": [],
      "collapsed_sections": [],
      "authorship_tag": "ABX9TyO8rqPEI8WcG0KRz7Yu3EQO",
      "include_colab_link": true
    },
    "kernelspec": {
      "name": "python3",
      "display_name": "Python 3"
    },
    "language_info": {
      "name": "python"
    }
  },
  "cells": [
    {
      "cell_type": "markdown",
      "metadata": {
        "id": "view-in-github",
        "colab_type": "text"
      },
      "source": [
        "<a href=\"https://colab.research.google.com/github/savagePy/ex_algoritmo./blob/main/ex_algoritmo.ipynb\" target=\"_parent\"><img src=\"https://colab.research.google.com/assets/colab-badge.svg\" alt=\"Open In Colab\"/></a>"
      ]
    },
    {
      "cell_type": "markdown",
      "source": [
        "# Exercicios\n",
        "\n",
        "##1 - Indentifique os dados de entrada, processamento e saída no algoritmo abaixo: \n",
        "\n",
        "1. receber código da peça \n",
        "1. receber valor da peça\n",
        "1. calcular o valor total da peça (quantidade * valor da peça)\n",
        "1. mostrar o código da peça e seu valor total\n",
        "\n",
        "\n"
      ],
      "metadata": {
        "id": "cDchrHFFu97m"
      }
    }
  ]
}